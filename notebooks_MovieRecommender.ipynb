{
  "metadata": {
    "kernelspec": {
      "name": "python",
      "display_name": "Python (Pyodide)",
      "language": "python"
    },
    "language_info": {
      "codemirror_mode": {
        "name": "python",
        "version": 3
      },
      "file_extension": ".py",
      "mimetype": "text/x-python",
      "name": "python",
      "nbconvert_exporter": "python",
      "pygments_lexer": "ipython3",
      "version": "3.8"
    }
  },
  "nbformat_minor": 4,
  "nbformat": 4,
  "cells": [
    {
      "cell_type": "markdown",
      "source": "The task would be to recommend movies to the user based on him/her given movies.\n\nMovies will be given by title.",
      "metadata": {}
    },
    {
      "cell_type": "code",
      "source": "import numpy as np\nimport pandas as pd",
      "metadata": {
        "trusted": true
      },
      "execution_count": 1,
      "outputs": []
    },
    {
      "cell_type": "markdown",
      "source": "Start by inspecting our dataset",
      "metadata": {}
    },
    {
      "cell_type": "code",
      "source": "links_df = pd.read_csv('data/links.csv')\nlinks_df.head()",
      "metadata": {
        "trusted": true
      },
      "execution_count": 3,
      "outputs": [
        {
          "execution_count": 3,
          "output_type": "execute_result",
          "data": {
            "text/plain": "   movieId  imdbId   tmdbId\n0        1  114709    862.0\n1        2  113497   8844.0\n2        3  113228  15602.0\n3        4  114885  31357.0\n4        5  113041  11862.0",
            "text/html": "<div>\n<style scoped>\n    .dataframe tbody tr th:only-of-type {\n        vertical-align: middle;\n    }\n\n    .dataframe tbody tr th {\n        vertical-align: top;\n    }\n\n    .dataframe thead th {\n        text-align: right;\n    }\n</style>\n<table border=\"1\" class=\"dataframe\">\n  <thead>\n    <tr style=\"text-align: right;\">\n      <th></th>\n      <th>movieId</th>\n      <th>imdbId</th>\n      <th>tmdbId</th>\n    </tr>\n  </thead>\n  <tbody>\n    <tr>\n      <th>0</th>\n      <td>1</td>\n      <td>114709</td>\n      <td>862.0</td>\n    </tr>\n    <tr>\n      <th>1</th>\n      <td>2</td>\n      <td>113497</td>\n      <td>8844.0</td>\n    </tr>\n    <tr>\n      <th>2</th>\n      <td>3</td>\n      <td>113228</td>\n      <td>15602.0</td>\n    </tr>\n    <tr>\n      <th>3</th>\n      <td>4</td>\n      <td>114885</td>\n      <td>31357.0</td>\n    </tr>\n    <tr>\n      <th>4</th>\n      <td>5</td>\n      <td>113041</td>\n      <td>11862.0</td>\n    </tr>\n  </tbody>\n</table>\n</div>"
          },
          "metadata": {}
        }
      ]
    },
    {
      "cell_type": "code",
      "source": "movies_df = pd.read_csv('data/movies.csv')\nmovies_df.head()",
      "metadata": {
        "trusted": true
      },
      "execution_count": 4,
      "outputs": [
        {
          "execution_count": 4,
          "output_type": "execute_result",
          "data": {
            "text/plain": "   movieId                               title  \\\n0        1                    Toy Story (1995)   \n1        2                      Jumanji (1995)   \n2        3             Grumpier Old Men (1995)   \n3        4            Waiting to Exhale (1995)   \n4        5  Father of the Bride Part II (1995)   \n\n                                        genres  \n0  Adventure|Animation|Children|Comedy|Fantasy  \n1                   Adventure|Children|Fantasy  \n2                               Comedy|Romance  \n3                         Comedy|Drama|Romance  \n4                                       Comedy  ",
            "text/html": "<div>\n<style scoped>\n    .dataframe tbody tr th:only-of-type {\n        vertical-align: middle;\n    }\n\n    .dataframe tbody tr th {\n        vertical-align: top;\n    }\n\n    .dataframe thead th {\n        text-align: right;\n    }\n</style>\n<table border=\"1\" class=\"dataframe\">\n  <thead>\n    <tr style=\"text-align: right;\">\n      <th></th>\n      <th>movieId</th>\n      <th>title</th>\n      <th>genres</th>\n    </tr>\n  </thead>\n  <tbody>\n    <tr>\n      <th>0</th>\n      <td>1</td>\n      <td>Toy Story (1995)</td>\n      <td>Adventure|Animation|Children|Comedy|Fantasy</td>\n    </tr>\n    <tr>\n      <th>1</th>\n      <td>2</td>\n      <td>Jumanji (1995)</td>\n      <td>Adventure|Children|Fantasy</td>\n    </tr>\n    <tr>\n      <th>2</th>\n      <td>3</td>\n      <td>Grumpier Old Men (1995)</td>\n      <td>Comedy|Romance</td>\n    </tr>\n    <tr>\n      <th>3</th>\n      <td>4</td>\n      <td>Waiting to Exhale (1995)</td>\n      <td>Comedy|Drama|Romance</td>\n    </tr>\n    <tr>\n      <th>4</th>\n      <td>5</td>\n      <td>Father of the Bride Part II (1995)</td>\n      <td>Comedy</td>\n    </tr>\n  </tbody>\n</table>\n</div>"
          },
          "metadata": {}
        }
      ]
    },
    {
      "cell_type": "code",
      "source": "ratings_df = pd.read_csv('data/ratings.csv')\nratings_df.head()",
      "metadata": {
        "trusted": true
      },
      "execution_count": 5,
      "outputs": [
        {
          "execution_count": 5,
          "output_type": "execute_result",
          "data": {
            "text/plain": "   userId  movieId  rating  timestamp\n0       1        1     4.0  964982703\n1       1        3     4.0  964981247\n2       1        6     4.0  964982224\n3       1       47     5.0  964983815\n4       1       50     5.0  964982931",
            "text/html": "<div>\n<style scoped>\n    .dataframe tbody tr th:only-of-type {\n        vertical-align: middle;\n    }\n\n    .dataframe tbody tr th {\n        vertical-align: top;\n    }\n\n    .dataframe thead th {\n        text-align: right;\n    }\n</style>\n<table border=\"1\" class=\"dataframe\">\n  <thead>\n    <tr style=\"text-align: right;\">\n      <th></th>\n      <th>userId</th>\n      <th>movieId</th>\n      <th>rating</th>\n      <th>timestamp</th>\n    </tr>\n  </thead>\n  <tbody>\n    <tr>\n      <th>0</th>\n      <td>1</td>\n      <td>1</td>\n      <td>4.0</td>\n      <td>964982703</td>\n    </tr>\n    <tr>\n      <th>1</th>\n      <td>1</td>\n      <td>3</td>\n      <td>4.0</td>\n      <td>964981247</td>\n    </tr>\n    <tr>\n      <th>2</th>\n      <td>1</td>\n      <td>6</td>\n      <td>4.0</td>\n      <td>964982224</td>\n    </tr>\n    <tr>\n      <th>3</th>\n      <td>1</td>\n      <td>47</td>\n      <td>5.0</td>\n      <td>964983815</td>\n    </tr>\n    <tr>\n      <th>4</th>\n      <td>1</td>\n      <td>50</td>\n      <td>5.0</td>\n      <td>964982931</td>\n    </tr>\n  </tbody>\n</table>\n</div>"
          },
          "metadata": {}
        }
      ]
    },
    {
      "cell_type": "code",
      "source": "tags_df = pd.read_csv('data/tags.csv')\ntags_df.head()",
      "metadata": {
        "trusted": true
      },
      "execution_count": 6,
      "outputs": [
        {
          "execution_count": 6,
          "output_type": "execute_result",
          "data": {
            "text/plain": "   userId  movieId              tag   timestamp\n0       2    60756            funny  1445714994\n1       2    60756  Highly quotable  1445714996\n2       2    60756     will ferrell  1445714992\n3       2    89774     Boxing story  1445715207\n4       2    89774              MMA  1445715200",
            "text/html": "<div>\n<style scoped>\n    .dataframe tbody tr th:only-of-type {\n        vertical-align: middle;\n    }\n\n    .dataframe tbody tr th {\n        vertical-align: top;\n    }\n\n    .dataframe thead th {\n        text-align: right;\n    }\n</style>\n<table border=\"1\" class=\"dataframe\">\n  <thead>\n    <tr style=\"text-align: right;\">\n      <th></th>\n      <th>userId</th>\n      <th>movieId</th>\n      <th>tag</th>\n      <th>timestamp</th>\n    </tr>\n  </thead>\n  <tbody>\n    <tr>\n      <th>0</th>\n      <td>2</td>\n      <td>60756</td>\n      <td>funny</td>\n      <td>1445714994</td>\n    </tr>\n    <tr>\n      <th>1</th>\n      <td>2</td>\n      <td>60756</td>\n      <td>Highly quotable</td>\n      <td>1445714996</td>\n    </tr>\n    <tr>\n      <th>2</th>\n      <td>2</td>\n      <td>60756</td>\n      <td>will ferrell</td>\n      <td>1445714992</td>\n    </tr>\n    <tr>\n      <th>3</th>\n      <td>2</td>\n      <td>89774</td>\n      <td>Boxing story</td>\n      <td>1445715207</td>\n    </tr>\n    <tr>\n      <th>4</th>\n      <td>2</td>\n      <td>89774</td>\n      <td>MMA</td>\n      <td>1445715200</td>\n    </tr>\n  </tbody>\n</table>\n</div>"
          },
          "metadata": {}
        }
      ]
    },
    {
      "cell_type": "markdown",
      "source": "Let's go on the assumption that if person $A$ likes movies $M_0, M_1, ..., M_i$,\nthen there goes person $B$ who likes one or more movies from $M_i$ let's call them $M_j$.\n\nThis would mean that $A$ and $B$ has a movie that they both liked, therefore other movies from both $M_j$ and $M_i$ can be liked by both $A$ and $B$ with high probability.\n\n------------------",
      "metadata": {}
    },
    {
      "cell_type": "code",
      "source": "df = movies_df.merge(ratings_df, on='movieId')",
      "metadata": {
        "trusted": true
      },
      "execution_count": 7,
      "outputs": []
    },
    {
      "cell_type": "code",
      "source": "M_j = 'John Wick (2014)' # Title as input, now it's just one movie\nrecommended_movies = []\n\n# Find the movie in the database, and sort it by rating\nmovie_db = df[df['title'] == M_j]\\\n            .sort_values(by='rating', ascending=False)\n\n# Get the first 5 users who liked this movie\nfor user in movie_db.iloc[:5]['userId'].values:\n    \n    # Get the rated movies for this user\n    rated_movies = df[df['userId'] == user]\n    \n    # Get the five biggest rated movie by this user\n    rated_movies = rated_movies[rated_movies['title'] != M_j]\\\n                    .sort_values(by='rating', ascending=False)\\\n                    .iloc[:5]\n    \n    # Add these to the recommendations\n    recommended_movies.extend(list(rated_movies['title'].values))\n    \nrecommended_movies = np.unique(recommended_movies)\n    \nfor movie in recommended_movies:\n    print(movie)",
      "metadata": {
        "trusted": true
      },
      "execution_count": 8,
      "outputs": [
        {
          "name": "stdout",
          "text": "21 Jump Street (2012)\nAddams Family, The (1991)\nAladdin (1992)\nBatman Begins (2005)\nBoondock Saints II: All Saints Day, The (2009)\nCaptain America: Civil War (2016)\nDeadpool (2016)\nFight Club (1999)\nGreen Mile, The (1999)\nIndiana Jones and the Temple of Doom (1984)\nJackass 2.5 (2007)\nJungle Book, The (1967)\nKing's Speech, The (2010)\nKingsman: The Secret Service (2015)\nOpera (1987)\nPan's Labyrinth (Laberinto del fauno, El) (2006)\nPredestination (2014)\nSuspiria (1977)\nThe Godfather Trilogy: 1972-1990 (1992)\nToy Story (1995)\nVisitor Q (Bizita Q) (2001)\nWillow (1988)\n",
          "output_type": "stream"
        }
      ]
    },
    {
      "cell_type": "markdown",
      "source": "Now weight each movie by the similiarity on the genre feature",
      "metadata": {}
    },
    {
      "cell_type": "code",
      "source": "gmovie_genres = df[df['title'] == M_j].iloc[0]['genres'].split('|')\nscores = {}  # {title: score ...}\n\nfor movie in recommended_movies:\n    movied = df[df['title'] == movie].iloc[0]\n    movie_genres = movied['genres'].split('|')\n    score = 0\n    \n    # How many gmovie_genre can be found in movie_genres?\n    for gmovie_genre in gmovie_genres:\n        if gmovie_genre in movie_genres:\n            score += 1\n    \n    scores[movie] = score\n    \n# Sort them on score and reverse it, because the bigger the score the better \nrecommended_movies = sorted(scores, key=lambda x: scores[x])[::-1]  ",
      "metadata": {
        "trusted": true
      },
      "execution_count": 9,
      "outputs": []
    },
    {
      "cell_type": "markdown",
      "source": "The recommendations are now weighted",
      "metadata": {}
    },
    {
      "cell_type": "code",
      "source": "for movie in recommended_movies:\n    print(movie)",
      "metadata": {
        "trusted": true
      },
      "execution_count": 10,
      "outputs": [
        {
          "name": "stdout",
          "text": "Predestination (2014)\nFight Club (1999)\nCaptain America: Civil War (2016)\nBoondock Saints II: All Saints Day, The (2009)\nWillow (1988)\nPan's Labyrinth (Laberinto del fauno, El) (2006)\nKingsman: The Secret Service (2015)\nIndiana Jones and the Temple of Doom (1984)\nDeadpool (2016)\nBatman Begins (2005)\n21 Jump Street (2012)\nVisitor Q (Bizita Q) (2001)\nToy Story (1995)\nThe Godfather Trilogy: 1972-1990 (1992)\nSuspiria (1977)\nOpera (1987)\nKing's Speech, The (2010)\nJungle Book, The (1967)\nJackass 2.5 (2007)\nGreen Mile, The (1999)\nAladdin (1992)\nAddams Family, The (1991)\n",
          "output_type": "stream"
        }
      ]
    },
    {
      "cell_type": "markdown",
      "source": "For implementation, see the `rmovie.py` file",
      "metadata": {}
    }
  ]
}